{
 "cells": [
  {
   "cell_type": "markdown",
   "metadata": {
    "collapsed": true
   },
   "source": [
    "## Submissions to Hacker News\n",
    "\n",
    "### Questions vs answers, frequency of comments\n",
    "\n",
    "##### Luca Vehbiu, 02-05-2019\n",
    "\n",
    "In order to reinforce the lessons learned in working with *strings*, *instances* and *date & times* the dataset from [Hacker News](https://www.kaggle.com/hacker-news/hacker-news-posts) will serve for such purpose.\n",
    "\n",
    "This analyses will compare these two types of posts to determine the following:\n",
    "\n",
    "   * Do **Ask HN** or **Show HN** receive more comments on average?\n",
    "   * Do posts created at a certain time receive more comments on average?\n"
   ]
  },
  {
   "cell_type": "code",
   "execution_count": 1,
   "metadata": {
    "collapsed": false
   },
   "outputs": [
    {
     "data": {
      "text/plain": [
       "['id', 'title', 'url', 'num_points', 'num_comments', 'author', 'created_at']"
      ]
     },
     "execution_count": 1,
     "metadata": {},
     "output_type": "execute_result"
    }
   ],
   "source": [
    "#Read the data\n",
    "import csv\n",
    "file = open(\"hacker_news.csv\")\n",
    "file = csv.reader(file)\n",
    "hn = list(file)\n",
    "\n",
    "#row with column names\n",
    "headers = hn[0]\n",
    "\n",
    "#rest of data\n",
    "hn = hn[1:]\n",
    "\n",
    "headers"
   ]
  },
  {
   "cell_type": "code",
   "execution_count": 2,
   "metadata": {
    "collapsed": false
   },
   "outputs": [
    {
     "name": "stdout",
     "output_type": "stream",
     "text": [
      "1744\n",
      "1162\n",
      "17194\n"
     ]
    }
   ],
   "source": [
    "#Separate the data into 3 \n",
    "\n",
    "#ask posts\n",
    "ask = []\n",
    "post = []\n",
    "other = []\n",
    "\n",
    "\n",
    "for row in hn:\n",
    "    title = row[1]\n",
    "    title = title.lower() #to avoid any mistakes with uppercase\n",
    "    if title.startswith('ask hn'):\n",
    "        ask.append(row)\n",
    "    elif title.startswith('show hn'):\n",
    "        post.append(row)\n",
    "    else:\n",
    "        other.append(row)\n",
    "        \n",
    "print(len(ask))\n",
    "print(len(post))\n",
    "print(len(other))"
   ]
  },
  {
   "cell_type": "code",
   "execution_count": 9,
   "metadata": {
    "collapsed": false
   },
   "outputs": [
    {
     "name": "stdout",
     "output_type": "stream",
     "text": [
      "Average for Ask HN: 14.038417431192661\n",
      "Average for Show HN: 10.31669535283993\n"
     ]
    }
   ],
   "source": [
    "#Find which gets more comments on average\n",
    "total_ask_comment = 0\n",
    "total_post_comm = 0\n",
    "\n",
    "#loop for ask posts\n",
    "for row in ask:\n",
    "    total_ask_comment += int(row[4])\n",
    "\n",
    "avg_ask = total_ask_comment / len(ask)\n",
    "print(\"Average for Ask HN:\", avg_ask)\n",
    "\n",
    "for row in post:\n",
    "    total_post_comm += int(row[4])\n",
    "\n",
    "avg_post = total_post_comm / len(post)\n",
    "\n",
    "print(\"Average for Show HN:\", avg_post)"
   ]
  },
  {
   "cell_type": "markdown",
   "metadata": {
    "collapsed": true
   },
   "source": [
    "It seems that Ask HN receive more comments on average so we will focus the rest of the analyses on such posts. Next, we'll determine if **ask posts created at a certain time** are more likely **to attract comments**. We'll use the following steps to perform this analysis:\n",
    "\n",
    "   1. Calculate the amount of ask posts created in each hour of the day, along with the number of comments received.\n",
    "   2. Calculate the average number of comments ask posts receive by hour created.\n"
   ]
  },
  {
   "cell_type": "code",
   "execution_count": 14,
   "metadata": {
    "collapsed": false
   },
   "outputs": [],
   "source": [
    "#Work with the dates column\n",
    "import datetime as dt\n",
    "result_list = []\n",
    "\n",
    "for row in ask:\n",
    "    created_at = row[6]\n",
    "    nr = int(row[4])\n",
    "    result_list.append(\n",
    "        [created_at, nr]\n",
    "                      )\n",
    "\n",
    "counts_by_row = {}\n",
    "comments_by_row = {}\n",
    "\n",
    "l_format = \"%m/%d/%Y %H:%M\"\n",
    "\n",
    "for row in result_list:\n",
    "    nr = row[1]\n",
    "    date = row[0]\n",
    "    date = dt.datetime.strptime(date, l_format).strftime(\"%H\")\n",
    "    if date not in counts_by_row:\n",
    "        counts_by_row[date] = 1\n",
    "        comments_by_row[date] = nr\n",
    "    else:\n",
    "        counts_by_row[date] += 1\n",
    "        comments_by_row[date] += nr\n",
    "    \n",
    "    \n"
   ]
  },
  {
   "cell_type": "code",
   "execution_count": 36,
   "metadata": {
    "collapsed": false
   },
   "outputs": [],
   "source": [
    "#Average number of comments per hour of the day\n",
    "avg_hour = []\n",
    "\n",
    "for post in comments_by_row:\n",
    "    avg_hour.append([post, comments_by_row[post]/ counts_by_row[post]])\n"
   ]
  },
  {
   "cell_type": "code",
   "execution_count": 50,
   "metadata": {
    "collapsed": false
   },
   "outputs": [
    {
     "name": "stdout",
     "output_type": "stream",
     "text": [
      "Top 5 hours for Ask comments: [[38.5948275862069, '15'], [23.810344827586206, '02'], [21.525, '20'], [16.796296296296298, '16'], [16.009174311926607, '21']]\n"
     ]
    }
   ],
   "source": [
    "swap = []\n",
    "\n",
    "for post in avg_hour:\n",
    "    swap.append([post[1], post[0]])\n",
    "\n",
    "swap = sorted(swap, reverse  = True)\n",
    "print(\"Top 5 hours for Ask comments:\", swap[:5])"
   ]
  },
  {
   "cell_type": "code",
   "execution_count": 51,
   "metadata": {
    "collapsed": false
   },
   "outputs": [
    {
     "name": "stdout",
     "output_type": "stream",
     "text": [
      "15: 38.59 average comments per post\n",
      "02: 23.81 average comments per post\n",
      "20: 21.52 average comments per post\n",
      "16: 16.80 average comments per post\n",
      "21: 16.01 average comments per post\n",
      "13: 14.74 average comments per post\n"
     ]
    }
   ],
   "source": [
    "for avg, hr in swap[:6]:\n",
    "    print(\"{}: {:.2f} average comments per post\".format(\n",
    "        dt.datetime.strptime(hr, \"%H\").strftime(\"%H\"), avg))"
   ]
  },
  {
   "cell_type": "code",
   "execution_count": 49,
   "metadata": {
    "collapsed": false
   },
   "outputs": [
    {
     "data": {
      "text/plain": [
       "[[16.796296296296298, '16'],\n",
       " [6.746478873239437, '22'],\n",
       " [13.233644859813085, '14'],\n",
       " [9.022727272727273, '06'],\n",
       " [23.810344827586206, '02'],\n",
       " [16.009174311926607, '21'],\n",
       " [10.08695652173913, '05'],\n",
       " [7.852941176470588, '07'],\n",
       " [7.985294117647059, '23'],\n",
       " [7.170212765957447, '04'],\n",
       " [14.741176470588234, '13'],\n",
       " [8.127272727272727, '00'],\n",
       " [13.440677966101696, '10'],\n",
       " [5.5777777777777775, '09'],\n",
       " [10.8, '19'],\n",
       " [11.46, '17'],\n",
       " [10.25, '08'],\n",
       " [38.5948275862069, '15'],\n",
       " [21.525, '20'],\n",
       " [9.41095890410959, '12'],\n",
       " [11.383333333333333, '01'],\n",
       " [7.796296296296297, '03'],\n",
       " [11.051724137931034, '11'],\n",
       " [13.20183486238532, '18']]"
      ]
     },
     "execution_count": 49,
     "metadata": {},
     "output_type": "execute_result"
    }
   ],
   "source": []
  },
  {
   "cell_type": "code",
   "execution_count": null,
   "metadata": {
    "collapsed": true
   },
   "outputs": [],
   "source": []
  }
 ],
 "metadata": {
  "kernelspec": {
   "display_name": "Python 3",
   "language": "python",
   "name": "python3"
  },
  "language_info": {
   "codemirror_mode": {
    "name": "ipython",
    "version": 3
   },
   "file_extension": ".py",
   "mimetype": "text/x-python",
   "name": "python",
   "nbconvert_exporter": "python",
   "pygments_lexer": "ipython3",
   "version": "3.4.3"
  }
 },
 "nbformat": 4,
 "nbformat_minor": 2
}
